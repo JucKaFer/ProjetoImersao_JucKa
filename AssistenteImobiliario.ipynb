{
  "nbformat": 4,
  "nbformat_minor": 0,
  "metadata": {
    "colab": {
      "provenance": [],
      "toc_visible": true,
      "authorship_tag": "ABX9TyOnJK9ZxrdmTaYhrSnMoPNQ",
      "include_colab_link": true
    },
    "kernelspec": {
      "name": "python3",
      "display_name": "Python 3"
    },
    "language_info": {
      "name": "python"
    }
  },
  "cells": [
    {
      "cell_type": "markdown",
      "metadata": {
        "id": "view-in-github",
        "colab_type": "text"
      },
      "source": [
        "<a href=\"https://colab.research.google.com/github/JucKaFer/ProjetoImersao_JucKa/blob/main/AssistenteImobiliario.ipynb\" target=\"_parent\"><img src=\"https://colab.research.google.com/assets/colab-badge.svg\" alt=\"Open In Colab\"/></a>"
      ]
    },
    {
      "cell_type": "code",
      "execution_count": 13,
      "metadata": {
        "id": "7lMxNfTs_tr0"
      },
      "outputs": [],
      "source": [
        "!pip install -q -U google-generativeai\n",
        "# Import the Python SDK\n",
        "import numpy as np\n",
        "import pandas as pd\n",
        "import requests\n",
        "import google.generativeai as genai\n",
        "from google.colab import userdata\n",
        "\n",
        "api_key = userdata.get('SECRET_KEY')\n",
        "genai.configure(api_key=api_key)\n",
        "\n",
        "url = 'https://raw.githubusercontent.com/JucKaFer/ProjetoImersao_JucKa/main/imoveis_listados.json'\n",
        "resposta = requests.get(url)\n",
        "data = resposta.json()\n",
        "#len(data)\n",
        "#data[0]"
      ]
    },
    {
      "cell_type": "code",
      "source": [
        "for m in genai.list_models():\n",
        "  if 'generateContent' in m.supported_generation_methods:\n",
        "    print(m.name)"
      ],
      "metadata": {
        "colab": {
          "base_uri": "https://localhost:8080/",
          "height": 138
        },
        "id": "90AzBaJa911k",
        "outputId": "b5ff096c-488b-416b-b4d3-a9d780140cca"
      },
      "execution_count": 19,
      "outputs": [
        {
          "output_type": "stream",
          "name": "stdout",
          "text": [
            "models/gemini-1.0-pro\n",
            "models/gemini-1.0-pro-001\n",
            "models/gemini-1.0-pro-latest\n",
            "models/gemini-1.0-pro-vision-latest\n",
            "models/gemini-1.5-pro-latest\n",
            "models/gemini-pro\n",
            "models/gemini-pro-vision\n"
          ]
        }
      ]
    },
    {
      "cell_type": "code",
      "source": [
        "model = genai.GenerativeModel('gemini-pro')\n",
        "\n",
        "resposta = model.generate_content(\n",
        "    f\"\"\"\n",
        "    Você é um especialista no setor imobiliário, com profundo conhecimento do mercado imobiliário na cidade de Campinas, SP.\n",
        "    Com base na lista de imóveis a seguir, gere uma nova coluna com sua avaliação em relação à atratividade de cada imóvel listado.\n",
        "    ```json\n",
        "    {data}\n",
        "    ```\n",
        "    Você deve considerar as características específicas de cada imóvel, em relação ao valor de mercado do bairro onde o imóvel se localiza.\n",
        "    Apresente os resultados em apenas 3 colunas, em ordem de atratividade, do mais atrativo para o menos atrativo,\n",
        "    na primeira coluna apenas o indice da tabela, na segunda coluna a avaliação de atratividade, na terceira coluna o valor do aluguel + condomínio,\n",
        "    e na quarta coluna um resumo das caracteristicas dos apartamentos (apenas os que forem avaliados com alta atratividade, removendo informações financeiras)\"\"\"\n",
        ")\n",
        "\n",
        "print(resposta.text)"
      ],
      "metadata": {
        "colab": {
          "base_uri": "https://localhost:8080/",
          "height": 381
        },
        "id": "mocTCWS98nBb",
        "outputId": "9af0ccd3-2a38-452b-ffa0-dbb9bcf81210"
      },
      "execution_count": 24,
      "outputs": [
        {
          "output_type": "stream",
          "name": "stdout",
          "text": [
            "| Índice | Atratividade | Aluguel + Condomínio | Características |\n",
            "|---|---|---|---|\n",
            "| 33 | Muito Alta | R$ 5.200 | 3 quartos, 94m², 3 banheiros, 3 vagas |\n",
            "| 34 | Alta | R$ 2.798 | 2 quartos, 53m², 2 banheiros, 1 vaga |\n",
            "| 6 | Alta | R$ 5.950 | 3 quartos, 109m², 4 banheiros, 3 vagas |\n",
            "| 17 | Alta | R$ 2.500 | 1 quarto, 60m², 2 banheiros, 1 vaga |\n",
            "| 30 | Alta | R$ 3.443 | 3 quartos, 80m², 2 banheiros, 2 vagas |\n",
            "| 39 | Alta | R$ 2.570 | 2 quartos, 65m², 3 banheiros, 2 vagas |\n",
            "| 35 | Alta | R$ 4.410 | 2 quartos, 94m², 3 banheiros, 3 vagas |\n",
            "| 5 | Alta | R$ 2.600 | 3 quartos, 105m², 2 banheiros, 1 vaga |\n",
            "| 27 | Media | R$ 3.130 | 1 quarto, 48m², 1 banheiro, 1 vaga |\n",
            "| 2 | Alta | R$ 3.000 | 3 quartos, 67m², 1 banheiro, 2 vagas |\n",
            "| 32 | Media | R$ 4.142 | 3 quartos, 213m², 3 banheiros, 2 vagas |\n",
            "| 28 | Alta | R$ 2.819 | 2 quartos, 60m², 2 banheiros, 2 vagas |\n",
            "| 25 | Alta | R$ 3.500 | 2 quartos, 65m², 2 banheiros, 2 vagas |\n",
            "| 24 | Alta | R$ 3.493 | 1 quarto, 45m², 1 banheiro, 1 vaga |\n",
            "| 22 | Alta | R$ 4.150 | 3 quartos, 95m², 3 banheiros, 1 vaga |\n",
            "| 21 | Alta | R$ 4.218 | 3 quartos, 75m², 2 banheiros, 1 vaga |\n",
            "| 7 | Alta | R$ 3.908 | 1 quarto, 57m², 1 banheiro, 1 vaga |\n",
            "| 23 | Alta | R$ 2.775 | 2 quartos, 52m², 1 banheiro, 1 vaga |\n",
            "| 4 | Alta | R$ 3.900 | 3 quartos, 104m², 3 banheiros, 1 vaga |\n"
          ]
        }
      ]
    }
  ]
}